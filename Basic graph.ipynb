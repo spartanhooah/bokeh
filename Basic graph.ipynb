{
 "cells": [
  {
   "cell_type": "code",
   "execution_count": 6,
   "id": "98c90a96",
   "metadata": {},
   "outputs": [],
   "source": [
    "# Making a basic Bokeh line graph\n",
    "from bokeh.plotting import figure\n",
    "from bokeh.io import output_file, show\n",
    "\n",
    "x = [3, 7.5, 10]\n",
    "y = [3, 6, 9]\n",
    "\n",
    "output_file(\"Triangles.html\")\n",
    "\n",
    "triangles = figure()\n",
    "\n",
    "triangles.triangle(x, y)\n",
    "show(triangles)\n",
    "\n",
    "output_file(\"Circles.html\")\n",
    "circles = figure()\n",
    "circles.circle(x, y)\n",
    "show(circles)"
   ]
  },
  {
   "cell_type": "code",
   "execution_count": 8,
   "id": "078a742f",
   "metadata": {},
   "outputs": [],
   "source": [
    "# Making a basic Bokeh line graph from a CSV file\n",
    "from bokeh.plotting import figure\n",
    "from bokeh.io import output_file, show\n",
    "import pandas\n",
    "\n",
    "data = pandas.read_csv(\"data.csv\")\n",
    "x = data[\"x\"]\n",
    "y = data[\"y\"]\n",
    "\n",
    "output_file(\"Line_from_csv.html\")\n",
    "\n",
    "line = figure()\n",
    "\n",
    "line.line(x, y)\n",
    "show(line)"
   ]
  },
  {
   "cell_type": "code",
   "execution_count": 9,
   "id": "a611fc1e",
   "metadata": {},
   "outputs": [],
   "source": [
    "# Making a basic Bokeh line graph with a larger CSV file\n",
    "from bokeh.plotting import figure\n",
    "from bokeh.io import output_file, show\n",
    "import pandas\n",
    "\n",
    "data = pandas.read_csv(\"bachelors.csv\")\n",
    "x = data[\"Year\"]\n",
    "y = data[\"Engineering\"]\n",
    "\n",
    "output_file(\"education.html\")\n",
    "\n",
    "line = figure()\n",
    "\n",
    "line.line(x, y)\n",
    "show(line)"
   ]
  },
  {
   "cell_type": "code",
   "execution_count": 17,
   "id": "26e43400",
   "metadata": {},
   "outputs": [],
   "source": [
    "# Reading data from an Excel sheet and customizing the plot\n",
    "from bokeh.plotting import figure, output_file, show\n",
    "import pandas\n",
    "\n",
    "data = pandas.read_excel(\"verlegenhuken.xlsx\")\n",
    "temperatures = data[\"Temperature\"]\n",
    "temperatures = [temperature / 10 for temperature in temperatures]\n",
    "pressures = data[\"Pressure\"]\n",
    "pressures = [pressure / 10 for pressure in pressures]\n",
    "\n",
    "output_file(\"weather.html\")\n",
    "\n",
    "plot = figure(tools=\"pan\")\n",
    "plot.title.text = \"Temperature and Air Pressure\"\n",
    "plot.xaxis.axis_label = \"Temperature (C)\"\n",
    "plot.xaxis.minor_tick_line_color = None\n",
    "plot.yaxis.axis_label = \"Air Pressure (hPa)\"\n",
    "plot.yaxis.minor_tick_line_color = None\n",
    "\n",
    "plot.circle(temperatures, pressures, size=0.5)\n",
    "show(plot)"
   ]
  },
  {
   "cell_type": "code",
   "execution_count": 27,
   "id": "3913f02d",
   "metadata": {},
   "outputs": [],
   "source": [
    "from bokeh.plotting import figure, output_file, show\n",
    "import pandas\n",
    "\n",
    "data = pandas.read_csv(\"adbe.csv\", parse_dates=[\"Date\"])\n",
    "\n",
    "stocks = figure(width=500, height=250, x_axis_type=\"datetime\", sizing_mode=\"scale_both\")\n",
    "\n",
    "stocks.line(data[\"Date\"], data[\"Close\"], color=\"Orange\", alpha=0.5)\n",
    "\n",
    "output_file=(\"stocks.html\")\n",
    "show(stocks)"
   ]
  }
 ],
 "metadata": {
  "kernelspec": {
   "display_name": "Python 3 (ipykernel)",
   "language": "python",
   "name": "python3"
  },
  "language_info": {
   "codemirror_mode": {
    "name": "ipython",
    "version": 3
   },
   "file_extension": ".py",
   "mimetype": "text/x-python",
   "name": "python",
   "nbconvert_exporter": "python",
   "pygments_lexer": "ipython3",
   "version": "3.10.8"
  }
 },
 "nbformat": 4,
 "nbformat_minor": 5
}
